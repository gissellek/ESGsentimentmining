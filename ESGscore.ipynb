{
 "cells": [
  {
   "cell_type": "code",
   "execution_count": 3,
   "metadata": {},
   "outputs": [],
   "source": [
    "import time\n",
    "import intrinio_sdk\n",
    "import pandas as pd\n",
    "import nltk\n",
    "from nltk.sentiment.vader import SentimentIntensityAnalyzer\n",
    "\n",
    "from intrinio_sdk.rest import ApiException\n",
    "from pprint import pprint\n",
    "\n",
    "   \n",
    "intrinio_sdk.ApiClient().configuration.api_key['api_key'] = 'YOUR_API_KEY'\n",
    "\n",
    "company_api = intrinio_sdk.CompanyApi()\n",
    "PAGE_SIZE = 100 # number of results to return \n",
    "next_page = '' # gets the next page of data from a previous API call (optional)\n"
   ]
  },
  {
   "cell_type": "code",
   "execution_count": 9,
   "metadata": {},
   "outputs": [],
   "source": [
    "def getDictionaryFromXLSFile(XLSFile, ratings):\n",
    "    wordlist = {}\n",
    "    for i in range(1,8):\n",
    "        frame = XLSFile.parse(XLSFile.sheet_names[i], header=None)\n",
    "        frame.columns = ['word']\n",
    "        frame['score'] = ratings[i - 1]\n",
    "        dict =frame.set_index('word').to_dict()\n",
    "        wordlist = {**wordlist, **dict} # append dictionary to wordlist\n",
    "    return wordlist"
   ]
  },
  {
   "cell_type": "code",
   "execution_count": 10,
   "metadata": {},
   "outputs": [],
   "source": [
    "def updateLexicon(sia):\n",
    "    file_path = 'LoughranMcDonald_SentimentWordLists_2018.xlsx'\n",
    "    file = pd.ExcelFile(file_path)\n",
    "\n",
    "    wordlist = getDictionaryFromXLSFile(file, [-1,1,-1,-1,1,-1,-1]) # assign scores to words from financial lexiconn\n",
    "    \n",
    "    \n",
    "    sia.lexicon.update(wordlist)"
   ]
  },
  {
   "cell_type": "code",
   "execution_count": 11,
   "metadata": {},
   "outputs": [
    {
     "name": "stderr",
     "output_type": "stream",
     "text": [
      "[nltk_data] Downloading package vader_lexicon to\n",
      "[nltk_data]     /home/gisselle/nltk_data...\n",
      "[nltk_data]   Package vader_lexicon is already up-to-date!\n"
     ]
    }
   ],
   "source": [
    "nltk.download('vader_lexicon')\n",
    "sia = SentimentIntensityAnalyzer()\n",
    "updateLexicon(sia)\n",
    "# updates sentiment analyzer with words from financial lexicon and their polarity scores"
   ]
  },
  {
   "cell_type": "code",
   "execution_count": 5,
   "metadata": {},
   "outputs": [],
   "source": [
    "def inPassage(passage, list): \n",
    "    for word in list:\n",
    "        if word in passage:\n",
    "            return True \n",
    "    return False"
   ]
  },
  {
   "cell_type": "code",
   "execution_count": 6,
   "metadata": {},
   "outputs": [],
   "source": [
    "def createColumn(df, columnName, list):\n",
    "    df[columnName] = df['summary'].apply(inPassage, args=(list,))"
   ]
  },
  {
   "cell_type": "code",
   "execution_count": 7,
   "metadata": {},
   "outputs": [],
   "source": [
    "# create dictionaries of words relating to each pillar of ESG. code can be improved by adding to these\n",
    "eWords = {'environment', 'climate', 'sustainable', 'sustainability', 'green', 'planet'}\n",
    "sWords = {'social','community', 'responsibility', 'philanthropy', 'charity'}\n",
    "gWords = {'governance', 'board', 'administration', 'organization', 'conduct'}\n"
   ]
  },
  {
   "cell_type": "code",
   "execution_count": 8,
   "metadata": {},
   "outputs": [],
   "source": [
    "def getSentimentScore(passage):\n",
    "    try:\n",
    "        score = sia.polarity_scores(str(passage))['compound']\n",
    "    except TypeError:\n",
    "        score = 0\n",
    "    return score"
   ]
  },
  {
   "cell_type": "code",
   "execution_count": 9,
   "metadata": {},
   "outputs": [],
   "source": [
    "def getESGscore(ticker):\n",
    "    try:\n",
    "        api_response = company_api.get_company_news(ticker, page_size=PAGE_SIZE, next_page=next_page)\n",
    "    except ApiException as e:\n",
    "        print(\"Exception when calling CompanyApi->get_company_news: %s\\r\\n\" % e)\n",
    "    \n",
    "    df = pd.DataFrame(api_response.news_dict)\n",
    "    del df['id']\n",
    "    \n",
    "    createColumn(df, 'eContent', eWords)\n",
    "    createColumn(df, 'sContent', sWords)\n",
    "    createColumn(df, 'gContent', gWords)\n",
    "    \n",
    "    df['sentiment'] = df.summary.apply(getSentimentScore)\n",
    "    \n",
    "    # define the scores as the sum of the sentiments of the articles containing content relating to env, soc or gov divided by total number of articles fetched\n",
    "    eScore = df[df['eContent'] == True].sum()['sentiment'] / PAGE_SIZE\n",
    "    sScore = df[df['sContent'] == True].sum()['sentiment'] / PAGE_SIZE\n",
    "    gScore = df[df['gContent'] == True].sum()['sentiment'] / PAGE_SIZE\n",
    "    \n",
    "    return [eScore, sScore, gScore]\n"
   ]
  },
  {
   "cell_type": "code",
   "execution_count": 13,
   "metadata": {},
   "outputs": [
    {
     "name": "stdout",
     "output_type": "stream",
     "text": [
      "Please enter a ticker: JPM\n",
      "Environment: 0.010341999999999997 Social: 0.0018340000000000012 Governance: 0.048572000000000004\n"
     ]
    }
   ],
   "source": [
    "scores = getESGscore(input('Please enter a ticker: '))\n",
    "print(\"Environment: {0} Social: {1} Governance: {2}\".format(scores[0], scores[1], scores[2]))"
   ]
  },
  {
   "cell_type": "code",
   "execution_count": 12,
   "metadata": {},
   "outputs": [
    {
     "name": "stdout",
     "output_type": "stream",
     "text": [
      "[[0.009984, 0.029369999999999997, 0.059368], [0.0, 0.061084000000000006, 0.065648], [0.008248, 0.0, 0.0012009999999999998], [0.059720999999999996, 0.028205, 0.09254100000000001], [0.060372, 0.008926, 0.027889], [0.010341999999999997, 0.0018340000000000012, 0.048572000000000004], [0.015872999999999998, 0.050464, 0.029830000000000002]]\n"
     ]
    },
    {
     "data": {
      "text/plain": [
       "<matplotlib.axes._subplots.AxesSubplot at 0x7f89190937d0>"
      ]
     },
     "execution_count": 12,
     "metadata": {},
     "output_type": "execute_result"
    },
    {
     "data": {
      "image/png": "[encoded data removed]",
      "text/plain": [
       "<Figure size 432x288 with 1 Axes>"
      ]
     },
     "metadata": {
      "needs_background": "light"
     },
     "output_type": "display_data"
    }
   ],
   "source": [
    "import numpy as np\n",
    "import matplotlib.pyplot as plt\n",
    "\n",
    "companies = ['MSFT', 'AAPL', 'BA', 'GS', 'IBM', 'JPM', 'DIS']\n",
    "scoreList = []\n",
    "\n",
    "for company in companies:\n",
    "    scoreList.append(getESGscore(company))\n",
    "    \n",
    "print(scoreList)\n",
    "\n",
    "esgData = pd.DataFrame(scoreList, columns=['eScore', 'sScore','gScore'])\n",
    "esgData.insert(0, 'company', companies)\n",
    "esgData\n",
    "\n",
    "esgData.plot(kind='bar', x='company', stacked=True, cmap='Set3')\n"
   ]
  }
 ],
 "metadata": {
  "kernelspec": {
   "display_name": "Python 3",
   "language": "python",
   "name": "python3"
  },
  "language_info": {
   "codemirror_mode": {
    "name": "ipython",
    "version": 3
   },
   "file_extension": ".py",
   "mimetype": "text/x-python",
   "name": "python",
   "nbconvert_exporter": "python",
   "pygments_lexer": "ipython3",
   "version": "3.7.4"
  }
 },
 "nbformat": 4,
 "nbformat_minor": 2
}
